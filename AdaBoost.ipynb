{
 "cells": [
  {
   "cell_type": "markdown",
   "id": "a380c6b4",
   "metadata": {},
   "source": [
    "## Overview\n",
    "\n"
   ]
  },
  {
   "cell_type": "markdown",
   "id": "d96ed1f5",
   "metadata": {},
   "source": [
    "## Explanation\n",
    "\n",
    "Adaboost is often used together with DecisionTree\n",
    "\n",
    "Adaboost combines a lot of weak learners to make classification\n",
    "\n",
    "### stump\n",
    "\n",
    "A tree node with two leaves\n",
    "\n",
    "### weights\n",
    "\n",
    "each weight are initialized to be equal, i.e. $\\frac{1}{n}$\n",
    "\n",
    "### total error (of a stump)\n",
    "\n",
    "the sum of weights of all incorrectly classified samples\n",
    "\n",
    "### amount of say\n",
    "\n",
    "given by $\\frac{1}{2}\\log{\\frac{1-TE}{TE}}$\n",
    "\n",
    "the value can be negative for bad stumps, which will vote in the exact opposite direction\n",
    "\n",
    "a graphical plot of **amount of say** against the **total error** looks like a verticalized **sigmoid** function\n",
    "\n",
    "### smoothing\n",
    "\n",
    "done to prevent `total error` to be exact 1 or 0\n",
    "\n",
    "### resampling\n",
    "\n",
    "whenever a sample is classified incorrect, more weight is given to it\n",
    "\n",
    "`equation incorrect` $\\text{new sample weight} = \\text{sample weight} * e^{\\text{amount of say}}$\n",
    "\n",
    "`equation correct` $\\text{new sample weight} = \\text{sample weight} * e^{-\\text{amount of say}}$\n",
    "\n",
    "we then draws a random collection of samples based on the new weights **with replacement**\n",
    "\n",
    "### Adaboost\n",
    "\n",
    "In a **forest of stumps** made with **Adaboost**, some stumps gets more weight / are more important than others\n",
    "\n",
    "The order in which the stumps are made is important, unlike what happens in **Random Forest**"
   ]
  },
  {
   "cell_type": "markdown",
   "id": "f0d34064",
   "metadata": {},
   "source": [
    "## Data"
   ]
  },
  {
   "cell_type": "code",
   "execution_count": 1,
   "id": "7655abaf",
   "metadata": {},
   "outputs": [],
   "source": [
    "import pickle\n",
    "train_X, train_y, test_X, test_y = pickle.load(open('terrain_data.pkl', 'rb'))"
   ]
  },
  {
   "cell_type": "markdown",
   "id": "a40ad958",
   "metadata": {},
   "source": [
    "## Starter Code"
   ]
  },
  {
   "cell_type": "code",
   "execution_count": 3,
   "id": "2918a849",
   "metadata": {},
   "outputs": [
    {
     "data": {
      "text/plain": [
       "0.992"
      ]
     },
     "execution_count": 3,
     "metadata": {},
     "output_type": "execute_result"
    }
   ],
   "source": [
    "from sklearn.ensemble import AdaBoostClassifier\n",
    "\n",
    "X, y = train_X, train_y\n",
    "\n",
    "clf = AdaBoostClassifier(n_estimators=100, random_state=0)\n",
    "clf.fit(X, y)\n",
    "\n",
    "clf.score(X, y) # train accuracy"
   ]
  },
  {
   "cell_type": "code",
   "execution_count": 4,
   "id": "267c2bf5",
   "metadata": {},
   "outputs": [
    {
     "data": {
      "text/plain": [
       "0.924"
      ]
     },
     "execution_count": 4,
     "metadata": {},
     "output_type": "execute_result"
    }
   ],
   "source": [
    "from sklearn.metrics import accuracy_score\n",
    "pred_y = clf.predict(test_X)\n",
    "accuracy_score(test_y, pred_y)"
   ]
  },
  {
   "cell_type": "code",
   "execution_count": 5,
   "id": "2e86e5bd",
   "metadata": {},
   "outputs": [],
   "source": [
    "from class_viz import prettyPicture"
   ]
  },
  {
   "cell_type": "code",
   "execution_count": 6,
   "id": "fc3b66a0",
   "metadata": {},
   "outputs": [
    {
     "name": "stderr",
     "output_type": "stream",
     "text": [
      "C:\\Users\\ng572\\Desktop\\scikit-learn-quickstart\\class_viz.py:20: MatplotlibDeprecationWarning: shading='flat' when X and Y have the same dimensions as C is deprecated since 3.3.  Either specify the corners of the quadrilaterals with X and Y, or pass shading='auto', 'nearest' or 'gouraud', or set rcParams['pcolor.shading'].  This will become an error two minor releases later.\n",
      "  plt.pcolormesh(xx, yy, Z, cmap=pl.cm.seismic)\n"
     ]
    },
    {
     "data": {
      "image/png": "[encoded data removed]",
      "text/plain": [
       "<Figure size 432x288 with 1 Axes>"
      ]
     },
     "metadata": {
      "needs_background": "light"
     },
     "output_type": "display_data"
    }
   ],
   "source": [
    "prettyPicture(clf, test_X, test_y)"
   ]
  }
 ],
 "metadata": {
  "kernelspec": {
   "display_name": "Python 3",
   "language": "python",
   "name": "python3"
  },
  "language_info": {
   "codemirror_mode": {
    "name": "ipython",
    "version": 3
   },
   "file_extension": ".py",
   "mimetype": "text/x-python",
   "name": "python",
   "nbconvert_exporter": "python",
   "pygments_lexer": "ipython3",
   "version": "3.9.5"
  }
 },
 "nbformat": 4,
 "nbformat_minor": 5
}
