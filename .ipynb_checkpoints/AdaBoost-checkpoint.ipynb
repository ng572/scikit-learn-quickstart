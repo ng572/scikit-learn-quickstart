{
 "cells": [
  {
   "cell_type": "markdown",
   "id": "454cda22",
   "metadata": {},
   "source": [
    "## Overview\n",
    "\n"
   ]
  },
  {
   "cell_type": "markdown",
   "id": "cf922b14",
   "metadata": {},
   "source": [
    "## Explanation\n",
    "\n",
    "Adaboost is often used together with DecisionTree\n",
    "\n",
    "Adaboost combines a lot of weak learners to make classification\n",
    "\n",
    "### stump\n",
    "\n",
    "A tree node with two leaves\n",
    "\n",
    "### weights\n",
    "\n",
    "each weight are initialized to be equal, i.e. $\\frac{1}{n}$\n",
    "\n",
    "### total error (of a stump)\n",
    "\n",
    "the sum of weights of all incorrectly classified samples\n",
    "\n",
    "### amount of say\n",
    "\n",
    "given by $\\frac{1}{2}\\log{\\frac{1-TE}{TE}}$\n",
    "\n",
    "the value can be negative for bad stumps, which will vote in the exact opposite direction\n",
    "\n",
    "a graphical plot of **amount of say** against the **total error** looks like a verticalized **sigmoid** function\n",
    "\n",
    "### smoothing\n",
    "\n",
    "done to prevent `total error` to be exact 1 or 0\n",
    "\n",
    "### resampling\n",
    "\n",
    "whenever a sample is classified incorrect, more weight is given to it\n",
    "\n",
    "`equation incorrect` $\\text{new sample weight} = \\text{sample weight} * e^{\\text{amount of say}}$\n",
    "\n",
    "`equation correct` $\\text{new sample weight} = \\text{sample weight} * e^{-\\text{amount of say}}$\n",
    "\n",
    "we then draws a random collection of samples based on the new weights **with replacement**\n",
    "\n",
    "### Adaboost\n",
    "\n",
    "In a **forest of stumps** made with **Adaboost**, some stumps gets more weight / are more important than others\n",
    "\n",
    "The order in which the stumps are made is important, unlike what happens in **Random Forest**"
   ]
  },
  {
   "cell_type": "code",
   "execution_count": null,
   "id": "16abd17e",
   "metadata": {},
   "outputs": [],
   "source": []
  }
 ],
 "metadata": {
  "kernelspec": {
   "display_name": "Python 3",
   "language": "python",
   "name": "python3"
  },
  "language_info": {
   "codemirror_mode": {
    "name": "ipython",
    "version": 3
   },
   "file_extension": ".py",
   "mimetype": "text/x-python",
   "name": "python",
   "nbconvert_exporter": "python",
   "pygments_lexer": "ipython3",
   "version": "3.9.5"
  }
 },
 "nbformat": 4,
 "nbformat_minor": 5
}
