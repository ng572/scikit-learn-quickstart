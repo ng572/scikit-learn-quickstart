{
 "cells": [
  {
   "cell_type": "markdown",
   "id": "cf097ddd",
   "metadata": {},
   "source": [
    "## Starter Code"
   ]
  },
  {
   "cell_type": "code",
   "execution_count": 1,
   "id": "4f115edf",
   "metadata": {
    "scrolled": true
   },
   "outputs": [
    {
     "name": "stdout",
     "output_type": "stream",
     "text": [
      "[0.99244289 0.00755711]\n",
      "[6.30061232 0.54980396]\n"
     ]
    }
   ],
   "source": [
    "import numpy as np\n",
    "from sklearn.decomposition import PCA\n",
    "X = np.array([[-1, -1], [-2, -1], [-3, -2], [1, 1], [2, 1], [3, 2]])\n",
    "pca = PCA(n_components=2)\n",
    "pca.fit(X)\n",
    "\n",
    "print(pca.explained_variance_ratio_) # eigen values\n",
    "\n",
    "print(pca.singular_values_)\n"
   ]
  },
  {
   "cell_type": "markdown",
   "id": "73a52fd0",
   "metadata": {},
   "source": [
    "## Data\n",
    "\n",
    "networth and age"
   ]
  },
  {
   "cell_type": "code",
   "execution_count": 12,
   "id": "09ca750b",
   "metadata": {},
   "outputs": [],
   "source": [
    "import pickle\n",
    "train_X, train_y, test_X, test_y = pickle.load(open('networth_data.pkl', 'rb'))"
   ]
  },
  {
   "cell_type": "code",
   "execution_count": 15,
   "id": "13adc9c3",
   "metadata": {},
   "outputs": [
    {
     "name": "stdout",
     "output_type": "stream",
     "text": [
      "[0.99748226 0.00251774]\n",
      "[806.18694712  40.50314021]\n"
     ]
    }
   ],
   "source": [
    "import numpy as np\n",
    "from sklearn.decomposition import PCA\n",
    "X = np.c_[train_X, train_y]\n",
    "pca = PCA(n_components=2)\n",
    "pca.fit(X)\n",
    "\n",
    "print(pca.explained_variance_ratio_) # eigen values\n",
    "\n",
    "print(pca.singular_values_)\n"
   ]
  },
  {
   "cell_type": "code",
   "execution_count": 16,
   "id": "75df1ecb",
   "metadata": {},
   "outputs": [
    {
     "name": "stdout",
     "output_type": "stream",
     "text": [
      "[-0.13422426 -0.99095098]\n",
      "[ 0.99095098 -0.13422426]\n"
     ]
    }
   ],
   "source": [
    "first_pc, second_pc = pca.components_\n",
    "\n",
    "print(first_pc)\n",
    "print(second_pc)"
   ]
  },
  {
   "cell_type": "code",
   "execution_count": 20,
   "id": "3a665129",
   "metadata": {},
   "outputs": [
    {
     "data": {
      "image/png": "[encoded data removed]",
      "text/plain": [
       "<Figure size 432x288 with 1 Axes>"
      ]
     },
     "metadata": {
      "needs_background": "light"
     },
     "output_type": "display_data"
    }
   ],
   "source": [
    "import matplotlib.pyplot as plt\n",
    "trans_X = pca.transform(X)\n",
    "\n",
    "for ii, jj in zip(trans_X, X):\n",
    "    plt.scatter(first_pc[0] * ii[0], first_pc[1] * ii[0], color='r')\n",
    "    plt.scatter(second_pc[0] * ii[1], second_pc[1] * ii[1], color='c')\n",
    "    plt.scatter(jj[0], jj[1], color='b')"
   ]
  }
 ],
 "metadata": {
  "kernelspec": {
   "display_name": "Python 3",
   "language": "python",
   "name": "python3"
  },
  "language_info": {
   "codemirror_mode": {
    "name": "ipython",
    "version": 3
   },
   "file_extension": ".py",
   "mimetype": "text/x-python",
   "name": "python",
   "nbconvert_exporter": "python",
   "pygments_lexer": "ipython3",
   "version": "3.9.5"
  }
 },
 "nbformat": 4,
 "nbformat_minor": 5
}
