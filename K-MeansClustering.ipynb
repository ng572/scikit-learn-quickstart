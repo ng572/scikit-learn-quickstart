{
 "cells": [
  {
   "cell_type": "markdown",
   "id": "28a12add",
   "metadata": {},
   "source": [
    "## Overview\n",
    "\n",
    "there may not be a unique equilibrium for the cluster\\\n",
    "if the data does not contain a lot of signal\\\n",
    "that is, only a local minimum has been reached\n",
    "\n",
    "\n",
    "\n"
   ]
  },
  {
   "cell_type": "markdown",
   "id": "0566c6cb",
   "metadata": {},
   "source": [
    "## Hyperparameters\n",
    "\n",
    "### n_clusters\n",
    "\n",
    "how many clusters\n",
    "\n",
    "### max_iter\n",
    "\n",
    "how many iterations, default=300 is usually more than enough\n",
    "\n",
    "### n_init\n",
    "\n",
    "how many times will the alog be run, default=10. ensemble gives the final answer"
   ]
  },
  {
   "cell_type": "code",
   "execution_count": 1,
   "id": "4a0ff2ab",
   "metadata": {},
   "outputs": [
    {
     "data": {
      "text/plain": [
       "array([1, 1, 1, 0, 0, 0])"
      ]
     },
     "execution_count": 1,
     "metadata": {},
     "output_type": "execute_result"
    }
   ],
   "source": [
    "from sklearn.cluster import KMeans\n",
    "import numpy as np\n",
    "X = np.array([[1, 2], [1, 4], [1, 0],\n",
    "              [10, 2], [10, 4], [10, 0]])\n",
    "kmeans = KMeans(n_clusters=2, random_state=0).fit(X)\n",
    "kmeans.labels_"
   ]
  },
  {
   "cell_type": "code",
   "execution_count": 2,
   "id": "c7512882",
   "metadata": {},
   "outputs": [
    {
     "data": {
      "text/plain": [
       "array([1, 0])"
      ]
     },
     "execution_count": 2,
     "metadata": {},
     "output_type": "execute_result"
    }
   ],
   "source": [
    "kmeans.predict([[0, 0], [12, 3]])"
   ]
  },
  {
   "cell_type": "code",
   "execution_count": 3,
   "id": "50b3e17b",
   "metadata": {},
   "outputs": [
    {
     "data": {
      "text/plain": [
       "array([[10.,  2.],\n",
       "       [ 1.,  2.]])"
      ]
     },
     "execution_count": 3,
     "metadata": {},
     "output_type": "execute_result"
    }
   ],
   "source": [
    "kmeans.cluster_centers_"
   ]
  }
 ],
 "metadata": {
  "kernelspec": {
   "display_name": "Python 3",
   "language": "python",
   "name": "python3"
  },
  "language_info": {
   "codemirror_mode": {
    "name": "ipython",
    "version": 3
   },
   "file_extension": ".py",
   "mimetype": "text/x-python",
   "name": "python",
   "nbconvert_exporter": "python",
   "pygments_lexer": "ipython3",
   "version": "3.9.5"
  }
 },
 "nbformat": 4,
 "nbformat_minor": 5
}
