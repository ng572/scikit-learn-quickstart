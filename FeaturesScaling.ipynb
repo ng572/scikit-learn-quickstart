{
 "cells": [
  {
   "cell_type": "markdown",
   "id": "d7b1d555",
   "metadata": {},
   "source": [
    "## Overview\n",
    "\n",
    "Generally, SVM and K-means clustering are affected by scaling\n",
    "\n",
    "because the aggregate of 2 dimensions faces trade offs in fitting"
   ]
  },
  {
   "cell_type": "markdown",
   "id": "e890a43f",
   "metadata": {},
   "source": [
    "## Starter Code"
   ]
  },
  {
   "cell_type": "code",
   "execution_count": 7,
   "id": "6e0ebbed",
   "metadata": {},
   "outputs": [
    {
     "name": "stdout",
     "output_type": "stream",
     "text": [
      "MinMaxScaler()\n",
      "[[0.   0.  ]\n",
      " [0.25 0.25]\n",
      " [0.5  0.5 ]\n",
      " [1.   1.  ]]\n"
     ]
    }
   ],
   "source": [
    "from sklearn.preprocessing import MinMaxScaler\n",
    "data = [[-1, 2], [-0.5, 6], [0, 10], [1, 18]]\n",
    "scaler = MinMaxScaler()\n",
    "print(scaler.fit(data))\n",
    "\n",
    "#print(scaler.data_max_)\n",
    "\n",
    "print(scaler.transform(data))\n",
    "\n",
    "#print(scaler.transform([[2, 2]]))\n"
   ]
  },
  {
   "cell_type": "code",
   "execution_count": null,
   "id": "39216db9",
   "metadata": {},
   "outputs": [],
   "source": []
  }
 ],
 "metadata": {
  "kernelspec": {
   "display_name": "Python 3",
   "language": "python",
   "name": "python3"
  },
  "language_info": {
   "codemirror_mode": {
    "name": "ipython",
    "version": 3
   },
   "file_extension": ".py",
   "mimetype": "text/x-python",
   "name": "python",
   "nbconvert_exporter": "python",
   "pygments_lexer": "ipython3",
   "version": "3.9.5"
  }
 },
 "nbformat": 4,
 "nbformat_minor": 5
}
